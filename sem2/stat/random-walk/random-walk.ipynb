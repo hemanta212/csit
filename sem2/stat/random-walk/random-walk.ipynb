{
 "cells": [
  {
   "cell_type": "code",
   "execution_count": 21,
   "id": "65cae506",
   "metadata": {},
   "outputs": [],
   "source": [
    "import math\n",
    "import random\n",
    "\n",
    "import matplotlib.pyplot as plt\n",
    "import numpy as np\n",
    "\n",
    "try:# ENABLE IF YOU\"VE WIDGET SUPPORT\n",
    "    import ipywidgets as widgets\n",
    "except Exception:\n",
    "    pass"
   ]
  },
  {
   "cell_type": "code",
   "execution_count": 2,
   "id": "26bb403f",
   "metadata": {},
   "outputs": [],
   "source": [
    "def walk_2d(nsteps):\n",
    "    \"\"\"Return destination coord after walk of n steps.\"\"\"\n",
    "    x, y = 0, 0\n",
    "    pos_log = [(x, y)]\n",
    "    for _ in range(nsteps):\n",
    "        dx, dy = random.choice(\n",
    "            [\n",
    "                (0, 1),  # NORTH (UP)\n",
    "                (0, -1),  # SOUTH (DOWN)\n",
    "                (1, 0),  # EAST (RIGHT)\n",
    "                (-1, 0),  # WEST (LEFT)\n",
    "            ]\n",
    "        )\n",
    "        # Add pos with direction (x1, y1) with (x2, y2) -> x1+x2 , y1+y2\n",
    "        x += dx\n",
    "        y += dy\n",
    "        # Log this step in log history\n",
    "        pos_log.append((x, y))\n",
    "\n",
    "    # distance_from_start = math.sqrt(pow(pos[x] - 0, 2) + pow(pos[y] - 0, 2))\n",
    "    return pos_log"
   ]
  },
  {
   "cell_type": "code",
   "execution_count": 20,
   "id": "ec50a86c",
   "metadata": {},
   "outputs": [
    {
     "data": {
      "text/html": [
       "<pre style=\"white-space:pre;overflow-x:auto;line-height:normal;font-family:Menlo,'DejaVu Sans Mono',consolas,'Courier New',monospace\"><span style=\"font-weight: bold\">&lt;</span><span style=\"color: #ff00ff; text-decoration-color: #ff00ff; font-weight: bold\">Figure</span><span style=\"color: #000000; text-decoration-color: #000000\"> size 432x288 with </span><span style=\"color: #008080; text-decoration-color: #008080; font-weight: bold\">1</span><span style=\"color: #000000; text-decoration-color: #000000\"> Axes</span><span style=\"font-weight: bold\">&gt;</span>\n",
       "</pre>\n"
      ],
      "text/plain": [
       "\u001b[1m<\u001b[0m\u001b[1;95mFigure\u001b[0m\u001b[39m size 432x288 with \u001b[0m\u001b[1;36m1\u001b[0m\u001b[39m Axes\u001b[0m\u001b[1m>\u001b[0m\n"
      ]
     },
     "metadata": {},
     "output_type": "display_data"
    },
    {
     "data": {
      "image/png": "[encoded data removed]"
     },
     "metadata": {
      "needs_background": "light"
     },
     "output_type": "display_data"
    }
   ],
   "source": [
    "def plot_walker(steps):\n",
    "    position_travelled = walk_2d(steps)\n",
    "    l_arr_x = np.array([i[0] for i in position_travelled])\n",
    "    l_arr_y = np.array([i[1] for i in position_travelled])\n",
    "    plt.plot(l_arr_x,l_arr_y, color =\"blue\")\n",
    "    plt.show()\n",
    "\n",
    "plot_walker(1000)"
   ]
  },
  {
   "cell_type": "code",
   "execution_count": 24,
   "id": "f99e1814",
   "metadata": {},
   "outputs": [
    {
     "data": {
      "application/vnd.jupyter.widget-view+json": {
       "model_id": "23bc3ddfa1ee425696f85acb49211ddf",
       "version_major": 2,
       "version_minor": 0
      },
      "text/plain": [
       "interactive(children=(IntSlider(value=250, description='steps', max=500), Output()), _dom_classes=('widget-int…"
      ]
     },
     "metadata": {},
     "output_type": "display_data"
    }
   ],
   "source": [
    "try:\n",
    "    widgets.interact(plot_walker, steps=(0, 500))\n",
    "except Exception:\n",
    "    pass"
   ]
  },
  {
   "cell_type": "code",
   "execution_count": 7,
   "id": "fd810eae",
   "metadata": {},
   "outputs": [],
   "source": [
    "def get_stats():\n",
    "    max_dist, avg_dist = 0, 0\n",
    "    for i in range(1, 1001):\n",
    "        log = walk_2d(1000)\n",
    "        pos = log[-1]\n",
    "        dist = sum([abs(i) for i in pos])\n",
    "        avg_dist = (avg_dist + dist) / i\n",
    "        max_dist = dist if dist > max_dist else max_dist\n",
    "    print(\n",
    "        f\"**Simulation Result**\\n\\nAverage Distance: {avg_dist:.3f}\\nMaximum Distance: {max_dist}\\n\\n\"\n",
    "    )"
   ]
  },
  {
   "cell_type": "code",
   "execution_count": 8,
   "id": "28756365",
   "metadata": {},
   "outputs": [
    {
     "name": "stdout",
     "output_type": "stream",
     "text": [
      "**Simulation Result**\n",
      "\n",
      "Average Distance: 0.036\n",
      "Maximum Distance: 116\n",
      "\n",
      "\n"
     ]
    }
   ],
   "source": [
    "get_stats()"
   ]
  },
  {
   "cell_type": "code",
   "execution_count": null,
   "id": "6b5a722e",
   "metadata": {},
   "outputs": [],
   "source": []
  }
 ],
 "metadata": {
  "kernelspec": {
   "display_name": "Python 3 (ipykernel)",
   "language": "python",
   "name": "python3"
  },
  "language_info": {
   "codemirror_mode": {
    "name": "ipython",
    "version": 3
   },
   "file_extension": ".py",
   "mimetype": "text/x-python",
   "name": "python",
   "nbconvert_exporter": "python",
   "pygments_lexer": "ipython3",
   "version": "3.8.10"
  }
 },
 "nbformat": 4,
 "nbformat_minor": 5
}
